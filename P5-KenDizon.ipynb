{
 "cells": [
  {
   "cell_type": "markdown",
   "id": "8290fabe-db9c-433d-a253-daa1c80d584e",
   "metadata": {},
   "source": [
    "# MSDE631 SQL-NoSQL | Regis University\n",
    "### Instructor: Dr. Busch\n",
    "\n",
    "TITLE  | Date | Author |   Notes |\n",
    ":-----:|:----:|:------:|:-------:|\n",
    "Project, Part 5 |10 April 2023 | Ken Dizon | Version 1\n",
    "\n",
    "**Activity 3: Assignment 5: PDA in MongoDB** \n",
    "You are to transform your PDA to a document database.\n",
    "Transform you relation database you created for your PDA into a document database using MongoDB.\n",
    "- Export your data from your SQL-PDA as CSV files.\n",
    "- Use your exported data to create Mongo DB and collections.\n",
    "- Execute a series of find() commands on your collections to show the implementation.\n",
    "\n",
    "Note: Translation from a relational model DB to a NoSQL database requires some extra steps to make the NoSQL database useful. Use the RelationalToNoSQL notebook as your guide for your DB transformation. \n",
    "\n",
    "Submit the following:\n",
    "- PDF file contains screenshots of the commands execution and results.\n",
    "- The code you used to implement the document database.\n",
    "\n",
    "**Contents**\n",
    "1. Packages / Set Up\n",
    "2. Exporting MySQL Tables\n",
    "    * 2.2 Other Tables\n",
    "3. Review data schemas\n",
    "    * 3.2 Transform data\n",
    "        - 3.2.1: Prod + Order in OrderDetails\n",
    "        - 3.2.2: Cust_id in Orders\n",
    "        - 3.2.3: Clinic_id in Customer\n",
    "        - 3.2.4: Product and Clinic Tables\n",
    "4. MongoDB Config\n",
    "5. Migration of data to MongoDB\n",
    "6. Accessing Nested Values"
   ]
  },
  {
   "cell_type": "code",
   "execution_count": 1,
   "id": "203762d4-f164-46a9-b3d8-ca4a3e1db099",
   "metadata": {},
   "outputs": [],
   "source": [
    "# The getpass library is designed for inputting passwords\n",
    "import getpass\n",
    "import datetime\n",
    "import mysql.connector\n",
    "\n",
    "# pprint stands for pretty printing\n",
    "from pprint import pprint\n",
    "from pymongo import MongoClient"
   ]
  },
  {
   "cell_type": "code",
   "execution_count": 2,
   "id": "c435cbe9-7f26-4bf3-989c-47368f38e2bd",
   "metadata": {},
   "outputs": [
    {
     "name": "stdin",
     "output_type": "stream",
     "text": [
      "Enter Password:  ············\n"
     ]
    }
   ],
   "source": [
    "# Set up the database connection\n",
    "db = mysql.connector.connect(\n",
    "  host=\"127.0.0.1\",\n",
    "  user=\"root\",\n",
    "    database='SM_DBMS',\n",
    "    password=getpass.getpass('Enter Password: ')\n",
    "  #password=input('Enter your password: '),\n",
    ")"
   ]
  },
  {
   "cell_type": "code",
   "execution_count": 3,
   "id": "a4b021a3-d61e-4689-8898-653ef6d0ab2f",
   "metadata": {},
   "outputs": [
    {
     "name": "stdout",
     "output_type": "stream",
     "text": [
      "True\n"
     ]
    }
   ],
   "source": [
    "print(db.is_connected())"
   ]
  },
  {
   "cell_type": "markdown",
   "id": "f7a154c4-2da2-4698-8738-f8708c2f4946",
   "metadata": {},
   "source": [
    "Setting `dictionary=True` during cursor creation makes the database return dictionaries, where the keys are table column names. Handier than trying to remember numeric indexes."
   ]
  },
  {
   "cell_type": "code",
   "execution_count": 4,
   "id": "541462c8-658b-418e-b529-5e9e1b03266d",
   "metadata": {},
   "outputs": [],
   "source": [
    "# Create cursor for data access object that can be used to either \n",
    "# iterate over the set of rows in a table or insert new rows into a table.\n",
    "cursor = db.cursor(dictionary=True) \n",
    "cursor.execute('USE SM_DBMS')"
   ]
  },
  {
   "cell_type": "markdown",
   "id": "95530157-d97b-4f77-81fa-4b416a58b426",
   "metadata": {},
   "source": [
    "## 2. Exporting MySQL Tables"
   ]
  },
  {
   "cell_type": "code",
   "execution_count": 5,
   "id": "edfefcf0-a6f1-4d8b-98e5-fa7cb2a2621b",
   "metadata": {},
   "outputs": [
    {
     "name": "stdout",
     "output_type": "stream",
     "text": [
      "{'Tables_in_sm_dbms': 'Clinic'}\n",
      "{'Tables_in_sm_dbms': 'Customer'}\n",
      "{'Tables_in_sm_dbms': 'OrderDetails'}\n",
      "{'Tables_in_sm_dbms': 'Orders'}\n",
      "{'Tables_in_sm_dbms': 'Product'}\n"
     ]
    }
   ],
   "source": [
    "query = \"\"\"SHOW TABLES\"\"\"\n",
    "\n",
    "cursor.execute(query)\n",
    "result = cursor.fetchall()\n",
    "for x in result:\n",
    "    print(x)"
   ]
  },
  {
   "cell_type": "code",
   "execution_count": 6,
   "id": "83eb2f6f-5f4f-44aa-a1b2-88107d866b07",
   "metadata": {},
   "outputs": [
    {
     "data": {
      "text/plain": [
       "[{'Product_id': 1,\n",
       "  'Name': 'Knee braces',\n",
       "  'Description': 'designed to support and protect the knee joint during physical activity or recovery from injury.',\n",
       "  'Price': 22.02},\n",
       " {'Product_id': 2,\n",
       "  'Name': 'Ankle braces',\n",
       "  'Description': 'designed to provide stability and support for the ankle joint during physical activity or recovery from injury.',\n",
       "  'Price': 97.14},\n",
       " {'Product_id': 3,\n",
       "  'Name': 'Compression garments',\n",
       "  'Description': 'designed to improve blood flow, reduce swelling, and support muscles during physical activity or recovery from injury.',\n",
       "  'Price': 67.38},\n",
       " {'Product_id': 4,\n",
       "  'Name': 'Ice packs',\n",
       "  'Description': 'designed to reduce pain and swelling by applying cold therapy to the affected area.',\n",
       "  'Price': 16.94},\n",
       " {'Product_id': 5,\n",
       "  'Name': 'Heating pads',\n",
       "  'Description': 'designed to improve blood flow, reduce muscle tension, and promote healing by applying heat therapy to the affected area.',\n",
       "  'Price': 16.49}]"
      ]
     },
     "execution_count": 6,
     "metadata": {},
     "output_type": "execute_result"
    }
   ],
   "source": [
    "query = \"\"\"SELECT * FROM Product\"\"\"\n",
    "\n",
    "cursor.execute(query)\n",
    "product = list(cursor.fetchall())\n",
    "product[:5]"
   ]
  },
  {
   "cell_type": "code",
   "execution_count": 7,
   "id": "cf9960a8-bead-479f-84f7-b808cb2c92af",
   "metadata": {},
   "outputs": [
    {
     "data": {
      "text/plain": [
       "30"
      ]
     },
     "execution_count": 7,
     "metadata": {},
     "output_type": "execute_result"
    }
   ],
   "source": [
    "# Quick check to make sure we have all the results.\n",
    "len(product)"
   ]
  },
  {
   "cell_type": "code",
   "execution_count": 8,
   "id": "edca3133-0376-48c9-80a2-385f6cb00555",
   "metadata": {},
   "outputs": [
    {
     "data": {
      "text/plain": [
       "{'Product_id': 16,\n",
       " 'Name': 'Electrotherapy devices',\n",
       " 'Description': 'designed to provide pain relief and promote healing through the use of electrical impulses.',\n",
       " 'Price': 23.11}"
      ]
     },
     "execution_count": 8,
     "metadata": {},
     "output_type": "execute_result"
    }
   ],
   "source": [
    "product[15]"
   ]
  },
  {
   "cell_type": "markdown",
   "id": "38d758fd-a193-4ae6-ad71-b26f81e8f119",
   "metadata": {},
   "source": [
    "### 2.2 Other Tables **4**"
   ]
  },
  {
   "cell_type": "code",
   "execution_count": 9,
   "id": "78ba9df5-5ba5-4cc4-9319-edea1f396dd7",
   "metadata": {},
   "outputs": [
    {
     "data": {
      "text/plain": [
       "{'Clinic_id': 1,\n",
       " 'Name': 'Garcia, Harrell and Phillips',\n",
       " 'Address': '3197 Koch Tunnel Apt. 731',\n",
       " 'City': 'New Mikeview',\n",
       " 'State': 'Nevada',\n",
       " 'Zip': 54039,\n",
       " 'Phone': '520-541-1189x358'}"
      ]
     },
     "execution_count": 9,
     "metadata": {},
     "output_type": "execute_result"
    }
   ],
   "source": [
    "query = \"\"\"SELECT * FROM Clinic\"\"\"\n",
    "\n",
    "cursor.execute(query)\n",
    "clinic = list(cursor.fetchall())\n",
    "clinic[0]"
   ]
  },
  {
   "cell_type": "code",
   "execution_count": 10,
   "id": "405918ea-7846-45bd-9491-fdcd92e2b8a9",
   "metadata": {},
   "outputs": [
    {
     "data": {
      "text/plain": [
       "{'Customer_id': 1,\n",
       " 'Start_date': datetime.date(2018, 9, 1),\n",
       " 'First_name': 'David',\n",
       " 'Last_name': 'Harding',\n",
       " 'DOB': datetime.date(1941, 12, 30),\n",
       " 'Phone': '620.445.2906',\n",
       " 'Email': 'tsmith@example.org',\n",
       " 'Clinic_id': 11}"
      ]
     },
     "execution_count": 10,
     "metadata": {},
     "output_type": "execute_result"
    }
   ],
   "source": [
    "query = \"\"\"SELECT * FROM Customer\"\"\"\n",
    "\n",
    "cursor.execute(query)\n",
    "customer = list(cursor.fetchall())\n",
    "customer[0]"
   ]
  },
  {
   "cell_type": "code",
   "execution_count": 11,
   "id": "e9b1cdf2-5a1a-457a-ba32-8437d605a447",
   "metadata": {},
   "outputs": [
    {
     "data": {
      "text/plain": [
       "{'OrderDetails_id': 1,\n",
       " 'Product_id': 16,\n",
       " 'Order_id': 403,\n",
       " 'Quantity': 7,\n",
       " 'Total': 161.77}"
      ]
     },
     "execution_count": 11,
     "metadata": {},
     "output_type": "execute_result"
    }
   ],
   "source": [
    "query = \"\"\"SELECT * FROM OrderDetails\"\"\"\n",
    "\n",
    "cursor.execute(query)\n",
    "orderdetails = list(cursor.fetchall())\n",
    "orderdetails[0]"
   ]
  },
  {
   "cell_type": "code",
   "execution_count": 12,
   "id": "569b48c4-ae4c-4e10-baba-6ca634041eb7",
   "metadata": {},
   "outputs": [
    {
     "data": {
      "text/plain": [
       "{'Order_id': 1, 'Order_date': datetime.date(2022, 12, 18), 'Customer_id': 815}"
      ]
     },
     "execution_count": 12,
     "metadata": {},
     "output_type": "execute_result"
    }
   ],
   "source": [
    "query = \"\"\"SELECT * FROM Orders\"\"\"\n",
    "\n",
    "cursor.execute(query)\n",
    "orders = list(cursor.fetchall())\n",
    "orders[0]"
   ]
  },
  {
   "cell_type": "code",
   "execution_count": 13,
   "id": "4de64800-61dd-4ff6-bc07-a877087124a8",
   "metadata": {},
   "outputs": [
    {
     "data": {
      "text/plain": [
       "{'Order_id': 403, 'Order_date': datetime.date(2023, 1, 4), 'Customer_id': 2721}"
      ]
     },
     "execution_count": 13,
     "metadata": {},
     "output_type": "execute_result"
    }
   ],
   "source": [
    "orders[402]"
   ]
  },
  {
   "attachments": {
    "7fd92d2b-8490-441d-b693-55498b1106e5.png": {
     "image/png": "[encoded data removed]"
    }
   },
   "cell_type": "markdown",
   "id": "ea1dd988-1b20-4353-bec0-284476d78025",
   "metadata": {},
   "source": [
    "## 3.  Review data schemas\n",
    "- My **MySQL** database demonstrates relating tables by primary and foreign keys which are utilized through joins.\n",
    "- **Objective:** to embed sub-documents in the document that contains the information from the join:\n",
    "    * Plan and understand what your final result will look like, before you ever execute your code. \n",
    "    * Consider using different linking strategies. \n",
    "\n",
    "![Schema_ERD.png](attachment:7fd92d2b-8490-441d-b693-55498b1106e5.png)\n",
    "\n",
    "Originally, with foreign keys, a record in the **OrderDetails** table:\n",
    "\n",
    "```\n",
    "{ \n",
    "    'OrderDetails_id': 1,\n",
    "    'Product_id': 16,\n",
    "    'Order_id': 403,\n",
    "    'Quantity': 7,\n",
    "    'Total': 161.77}\n",
    "}\n",
    "```\n",
    "\n",
    "- Task: need to relate the `Product_id` + `Order_id` with the OrderDetails.\n",
    "\n",
    "We want to replace the `Product_ID` **value** with the corresponding entry in the Product table: \n",
    "\n",
    "```\n",
    "{\n",
    "    'Product_id': 16,\n",
    "    'Name': 'Electrotherapy devices',\n",
    "    'Description': 'designed to provide pain relief and promote healing through the use of electrical impulses.',\n",
    "    'Price': 23.11\n",
    "}\n",
    "```\n",
    "\n",
    "And the `OrderID` **value** with the corresponding entry in the Orders table:\n",
    "\n",
    "```\n",
    "{\n",
    "    'Order_id': 403,\n",
    "    'Order_date': datetime.date(2023, 1, 4),\n",
    "    'Customer_id': 2721\n",
    "}\n",
    "```\n",
    "\n",
    "Putting it all together, the first document in the OrderDetials table looks like this:\n",
    "\n",
    "```\n",
    "{ \n",
    "    'OrderDetails_ID': \n",
    "    {\n",
    "        'OrderDetails_id': 1,\n",
    "        'Product_id': 16,\n",
    "        'Order_id': 403,\n",
    "        'Quantity': 7,\n",
    "        'Total': 161.77\n",
    "    },\n",
    "    'Product_id':\n",
    "    {\n",
    "        'Product_id': 16,\n",
    "        'Name': 'Electrotherapy devices',\n",
    "        'Description': 'designed to provide pain relief and promote healing through the use of electrical impulses.',\n",
    "        'Price': 23.11\n",
    "    },\n",
    "    'Order_id':\n",
    "    {\n",
    "         'Order_id': 403,\n",
    "         'Order_date': datetime.date(2023, 1, 4),\n",
    "         'Customer_id': 2721}\n",
    "}\n",
    "```"
   ]
  },
  {
   "cell_type": "code",
   "execution_count": 14,
   "id": "aa2786eb-d5f1-4cba-a996-de60de253f4a",
   "metadata": {},
   "outputs": [],
   "source": [
    "import datetime\n",
    "\n",
    "one_od = \\\n",
    "{ \n",
    "    'OrderDetails_id': \n",
    "    {\n",
    "        'OrderDetails_id': 1,\n",
    "        'Product_id': 16,\n",
    "        'Order_id': 403,\n",
    "        'Quantity': 7,\n",
    "        'Total': 161.77\n",
    "    },\n",
    "    'Product_id':\n",
    "    {\n",
    "        'Product_id': 16,\n",
    "        'Name': 'Electrotherapy devices',\n",
    "        'Description': 'designed to provide pain relief and promote healing through the use of electrical impulses.',\n",
    "        'Price': 23.11\n",
    "    },\n",
    "    'Order_id':\n",
    "    {\n",
    "         'Order_id': 403,\n",
    "         'Order_date': datetime.date(2023, 1, 4),\n",
    "         'Customer_id': 2721}\n",
    "}"
   ]
  },
  {
   "cell_type": "code",
   "execution_count": 15,
   "id": "49884ba6-1b39-442b-92da-eca31cc898b2",
   "metadata": {},
   "outputs": [
    {
     "name": "stdout",
     "output_type": "stream",
     "text": [
      "{ 'OrderDetails_id': { 'OrderDetails_id': 1,\n",
      "                       'Order_id': 403,\n",
      "                       'Product_id': 16,\n",
      "                       'Quantity': 7,\n",
      "                       'Total': 161.77},\n",
      "  'Order_id': { 'Customer_id': 2721,\n",
      "                'Order_date': datetime.date(2023, 1, 4),\n",
      "                'Order_id': 403},\n",
      "  'Product_id': { 'Description': 'designed to provide pain relief and promote '\n",
      "                                 'healing through the use of electrical '\n",
      "                                 'impulses.',\n",
      "                  'Name': 'Electrotherapy devices',\n",
      "                  'Price': 23.11,\n",
      "                  'Product_id': 16}}\n"
     ]
    }
   ],
   "source": [
    "pprint(one_od, indent=2)"
   ]
  },
  {
   "cell_type": "code",
   "execution_count": 16,
   "id": "323260b1-0286-4914-be9f-c7b1b3183c04",
   "metadata": {},
   "outputs": [
    {
     "name": "stdout",
     "output_type": "stream",
     "text": [
      "{ 'OrderDetails_id': 1,\n",
      "  'Order_id': 403,\n",
      "  'Product_id': 16,\n",
      "  'Quantity': 7,\n",
      "  'Total': 161.77}\n"
     ]
    }
   ],
   "source": [
    "pprint(one_od['OrderDetails_id'], width=1, indent=2)"
   ]
  },
  {
   "cell_type": "code",
   "execution_count": 17,
   "id": "44ac4beb-bb9b-4b1f-a02e-4450c06b51f4",
   "metadata": {},
   "outputs": [
    {
     "name": "stdout",
     "output_type": "stream",
     "text": [
      "{ 'Description': 'designed to provide pain relief and promote healing through '\n",
      "                 'the use of electrical impulses.',\n",
      "  'Name': 'Electrotherapy devices',\n",
      "  'Price': 23.11,\n",
      "  'Product_id': 16}\n"
     ]
    }
   ],
   "source": [
    "pprint(one_od['Product_id'],indent=2)"
   ]
  },
  {
   "cell_type": "code",
   "execution_count": 18,
   "id": "a042d587-b3d1-4cbd-8216-29eb2b9ae91a",
   "metadata": {},
   "outputs": [
    {
     "name": "stdout",
     "output_type": "stream",
     "text": [
      "{ 'Customer_id': 2721,\n",
      "  'Order_date': datetime.date(2023, 1, 4),\n",
      "  'Order_id': 403}\n"
     ]
    }
   ],
   "source": [
    "pprint(one_od['Order_id'], width=1, indent=2)"
   ]
  },
  {
   "cell_type": "code",
   "execution_count": 19,
   "id": "0b9b1c6f-120b-4581-901d-2b46254e9315",
   "metadata": {},
   "outputs": [
    {
     "name": "stdout",
     "output_type": "stream",
     "text": [
      "datetime.date(2023, 1, 4)\n"
     ]
    }
   ],
   "source": [
    "# Finding the date\n",
    "pprint(one_od['Order_id']['Order_date'], width=1,indent=2)"
   ]
  },
  {
   "cell_type": "markdown",
   "id": "4cafec73-33a8-4053-abae-042010639341",
   "metadata": {},
   "source": [
    "### 3.2 Transform Data\n",
    "- 3.2.1) `Product_id + Order_id` within the OrderDetails to make sub-documents\n",
    "- 3.2.2) `Customer_id` within Orders\n",
    "- 3.2.3) `Clinic_id` within Customer"
   ]
  },
  {
   "cell_type": "code",
   "execution_count": 20,
   "id": "bff346de-3735-4236-84f4-865bca78b0a2",
   "metadata": {},
   "outputs": [
    {
     "name": "stdout",
     "output_type": "stream",
     "text": [
      "{'OrderDetails_id': 1, 'Product_id': {'Product_id': 17, 'Name': 'Insoles', 'Description': 'designed to provide additional support and cushioning for the feet during physical activity or recovery from injury.', 'Price': 75.63}, 'Order_id': {'Order_id': 404, 'Order_date': datetime.date(2022, 6, 21), 'Customer_id': 1943}, 'Quantity': 7, 'Total': 161.77}\n",
      "{'OrderDetails_id': 2, 'Product_id': {'Product_id': 28, 'Name': 'GPS watches', 'Description': 'designed to track distance, pace, and other metrics during physical activity.', 'Price': 7.44}, 'Order_id': {'Order_id': 1170, 'Order_date': datetime.date(2023, 3, 1), 'Customer_id': 2767}, 'Quantity': 1, 'Total': 85.41}\n",
      "{'OrderDetails_id': 3, 'Product_id': {'Product_id': 22, 'Name': 'Shin guards', 'Description': 'designed to protect the shins from impact during contact sports.', 'Price': 16.0}, 'Order_id': {'Order_id': 1936, 'Order_date': datetime.date(2021, 6, 16), 'Customer_id': 1364}, 'Quantity': 2, 'Total': 80.42}\n",
      "{'OrderDetails_id': 4, 'Product_id': {'Product_id': 12, 'Name': 'Anti-inflammatory creams', 'Description': 'designed to reduce pain and swelling by applying a topical cream containing anti-inflammatory ingredients.', 'Price': 80.86}, 'Order_id': {'Order_id': 408, 'Order_date': datetime.date(2021, 8, 23), 'Customer_id': 2321}, 'Quantity': 5, 'Total': 310.5}\n",
      "{'OrderDetails_id': 5, 'Product_id': {'Product_id': 26, 'Name': 'Blister pads', 'Description': 'designed to protect the skin from friction and prevent blisters during physical activity.', 'Price': 88.52}, 'Order_id': {'Order_id': 1533, 'Order_date': datetime.date(2022, 5, 9), 'Customer_id': 2138}, 'Quantity': 5, 'Total': 145.05}\n"
     ]
    }
   ],
   "source": [
    "for od in orderdetails[:5]:\n",
    "    od['Product_id'] = product[od['Product_id']]\n",
    "    od['Order_id'] = orders[od['Order_id']]\n",
    "    print(od)"
   ]
  },
  {
   "cell_type": "code",
   "execution_count": 21,
   "id": "adc211d0-9d8b-4c4c-a83d-008fc5955060",
   "metadata": {},
   "outputs": [
    {
     "data": {
      "text/plain": [
       "{'OrderDetails_id': 1,\n",
       " 'Product_id': {'Product_id': 17,\n",
       "  'Name': 'Insoles',\n",
       "  'Description': 'designed to provide additional support and cushioning for the feet during physical activity or recovery from injury.',\n",
       "  'Price': 75.63},\n",
       " 'Order_id': {'Order_id': 404,\n",
       "  'Order_date': datetime.date(2022, 6, 21),\n",
       "  'Customer_id': 1943},\n",
       " 'Quantity': 7,\n",
       " 'Total': 161.77}"
      ]
     },
     "execution_count": 21,
     "metadata": {},
     "output_type": "execute_result"
    }
   ],
   "source": [
    "# New\n",
    "orderdetails[0]"
   ]
  },
  {
   "cell_type": "code",
   "execution_count": 22,
   "id": "2ea5bda3-8d4c-439e-b569-a3f174519949",
   "metadata": {},
   "outputs": [
    {
     "data": {
      "text/plain": [
       "{'OrderDetails_id': 5000,\n",
       " 'Product_id': 1,\n",
       " 'Order_id': 370,\n",
       " 'Quantity': 3,\n",
       " 'Total': 66.06}"
      ]
     },
     "execution_count": 22,
     "metadata": {},
     "output_type": "execute_result"
    }
   ],
   "source": [
    "# old\n",
    "orderdetails[-1]"
   ]
  },
  {
   "cell_type": "markdown",
   "id": "0aa4a2e0-1e63-4bba-8336-f5adbd41e161",
   "metadata": {},
   "source": [
    "**Note:** Since we made changes, we need to refresh the table documents"
   ]
  },
  {
   "cell_type": "code",
   "execution_count": 23,
   "id": "dce23306-9f53-4059-94b2-be9d0c730c1a",
   "metadata": {},
   "outputs": [
    {
     "data": {
      "text/plain": [
       "{'OrderDetails_id': 1,\n",
       " 'Product_id': 16,\n",
       " 'Order_id': 403,\n",
       " 'Quantity': 7,\n",
       " 'Total': 161.77}"
      ]
     },
     "execution_count": 23,
     "metadata": {},
     "output_type": "execute_result"
    }
   ],
   "source": [
    "# Reset the document\n",
    "query = \"\"\"SELECT * FROM OrderDetails\"\"\"\n",
    "\n",
    "cursor.execute(query)\n",
    "orderdetails = list(cursor.fetchall())\n",
    "orderdetails[0]"
   ]
  },
  {
   "cell_type": "code",
   "execution_count": 24,
   "id": "bec4bed2-d213-4b58-8772-b49e3994dda7",
   "metadata": {},
   "outputs": [
    {
     "name": "stdout",
     "output_type": "stream",
     "text": [
      "{\n",
      "  \"OrderDetails_id\": 1,\n",
      "  \"Product_id\": {\n",
      "    \"Product_id\": 16,\n",
      "    \"Name\": \"Electrotherapy devices\",\n",
      "    \"Description\": \"designed to provide pain relief and promote healing through the use of electrical impulses.\",\n",
      "    \"Price\": 23.11\n",
      "  },\n",
      "  \"Order_id\": {\n",
      "    \"Order_id\": 403,\n",
      "    \"Order_date\": \"2023-01-04\",\n",
      "    \"Customer_id\": 2721\n",
      "  },\n",
      "  \"Quantity\": 7,\n",
      "  \"Total\": 161.77\n",
      "}\n",
      "{\n",
      "  \"OrderDetails_id\": 2,\n",
      "  \"Product_id\": {\n",
      "    \"Product_id\": 27,\n",
      "    \"Name\": \"Hydration packs\",\n",
      "    \"Description\": \"designed to provide hands-free hydration during outdoor activities.\",\n",
      "    \"Price\": 85.41\n",
      "  },\n",
      "  \"Order_id\": {\n",
      "    \"Order_id\": 1169,\n",
      "    \"Order_date\": \"2022-07-25\",\n",
      "    \"Customer_id\": 56\n",
      "  },\n",
      "  \"Quantity\": 1,\n",
      "  \"Total\": 85.41\n",
      "}\n",
      "{\n",
      "  \"OrderDetails_id\": 3,\n",
      "  \"Product_id\": {\n",
      "    \"Product_id\": 21,\n",
      "    \"Name\": \"Mouthguards\",\n",
      "    \"Description\": \"designed to protect the teeth and jaw from impact during contact sports.\",\n",
      "    \"Price\": 40.21\n",
      "  },\n",
      "  \"Order_id\": {\n",
      "    \"Order_id\": 1935,\n",
      "    \"Order_date\": \"2021-06-11\",\n",
      "    \"Customer_id\": 790\n",
      "  },\n",
      "  \"Quantity\": 2,\n",
      "  \"Total\": 80.42\n",
      "}\n",
      "{\n",
      "  \"OrderDetails_id\": 4,\n",
      "  \"Product_id\": {\n",
      "    \"Product_id\": 11,\n",
      "    \"Name\": \"Cold sprays\",\n",
      "    \"Description\": \"designed to provide instant cooling relief for muscle or joint pain.\",\n",
      "    \"Price\": 62.1\n",
      "  },\n",
      "  \"Order_id\": {\n",
      "    \"Order_id\": 407,\n",
      "    \"Order_date\": \"2021-12-16\",\n",
      "    \"Customer_id\": 1830\n",
      "  },\n",
      "  \"Quantity\": 5,\n",
      "  \"Total\": 310.5\n",
      "}\n",
      "{\n",
      "  \"OrderDetails_id\": 5,\n",
      "  \"Product_id\": {\n",
      "    \"Product_id\": 25,\n",
      "    \"Name\": \"Athletic socks\",\n",
      "    \"Description\": \"designed with extra cushioning and support for the feet during physical activity.\",\n",
      "    \"Price\": 29.01\n",
      "  },\n",
      "  \"Order_id\": {\n",
      "    \"Order_id\": 1532,\n",
      "    \"Order_date\": \"2021-08-18\",\n",
      "    \"Customer_id\": 2644\n",
      "  },\n",
      "  \"Quantity\": 5,\n",
      "  \"Total\": 145.05\n",
      "}\n"
     ]
    }
   ],
   "source": [
    "# Using JSON\n",
    "import json\n",
    "\n",
    "for od in orderdetails[:5]:\n",
    "    od['Product_id'] = list(filter(lambda Pid: Pid['Product_id'] == od['Product_id'], product))[0]\n",
    "    od['Order_id'] = list(filter(lambda Pid: Pid['Order_id'] == od['Order_id'], orders))[0]\n",
    "    print(json.dumps(od, indent=2, default=str))"
   ]
  },
  {
   "cell_type": "code",
   "execution_count": 25,
   "id": "7ef2615f-da44-4786-a0d4-93af59d205cd",
   "metadata": {},
   "outputs": [
    {
     "name": "stdout",
     "output_type": "stream",
     "text": [
      "datetime.date(2023, 1, 4)\n"
     ]
    }
   ],
   "source": [
    "# Finding the date\n",
    "pprint(orderdetails[0]['Order_id']['Order_date'], width=1,indent=2)"
   ]
  },
  {
   "cell_type": "code",
   "execution_count": 26,
   "id": "beb6ab76-d434-4d4d-a0fc-525f00c67ca4",
   "metadata": {},
   "outputs": [
    {
     "data": {
      "text/plain": [
       "{'OrderDetails_id': 1,\n",
       " 'Product_id': 16,\n",
       " 'Order_id': 403,\n",
       " 'Quantity': 7,\n",
       " 'Total': 161.77}"
      ]
     },
     "execution_count": 26,
     "metadata": {},
     "output_type": "execute_result"
    }
   ],
   "source": [
    "# Reset the document\n",
    "query = \"\"\"SELECT * FROM OrderDetails\"\"\"\n",
    "\n",
    "cursor.execute(query)\n",
    "orderdetails = list(cursor.fetchall())\n",
    "orderdetails[0]"
   ]
  },
  {
   "cell_type": "markdown",
   "id": "9eb300e7-6455-494a-9573-529bd92d80fc",
   "metadata": {},
   "source": [
    "#### 3.2.1: OrderDetails"
   ]
  },
  {
   "cell_type": "code",
   "execution_count": 27,
   "id": "5b6b671f-b93f-4cda-b263-0c78db407cad",
   "metadata": {},
   "outputs": [],
   "source": [
    "new_od = []\n",
    "\n",
    "for od in orderdetails:\n",
    "    od['Product_id'] = list(filter(lambda Pid: Pid['Product_id'] == od['Product_id'], product))[0]\n",
    "    od['Order_id'] = list(filter(lambda Pid: Pid['Order_id'] == od['Order_id'], orders))[0]\n",
    "    od['Order_id']['Order_date'] = datetime.datetime(orderdetails[0]['Order_id']['Order_date'].year,\n",
    "                                         orderdetails[0]['Order_id']['Order_date'].month,\n",
    "                                         orderdetails[0]['Order_id']['Order_date'].day)\n",
    "    new_od.append(od)"
   ]
  },
  {
   "cell_type": "code",
   "execution_count": 28,
   "id": "b5a506ff-120f-4c43-9a61-6a73326b246f",
   "metadata": {},
   "outputs": [
    {
     "data": {
      "text/plain": [
       "[{'OrderDetails_id': 1,\n",
       "  'Product_id': {'Product_id': 16,\n",
       "   'Name': 'Electrotherapy devices',\n",
       "   'Description': 'designed to provide pain relief and promote healing through the use of electrical impulses.',\n",
       "   'Price': 23.11},\n",
       "  'Order_id': {'Order_id': 403,\n",
       "   'Order_date': datetime.datetime(2023, 1, 4, 0, 0),\n",
       "   'Customer_id': 2721},\n",
       "  'Quantity': 7,\n",
       "  'Total': 161.77},\n",
       " {'OrderDetails_id': 2,\n",
       "  'Product_id': {'Product_id': 27,\n",
       "   'Name': 'Hydration packs',\n",
       "   'Description': 'designed to provide hands-free hydration during outdoor activities.',\n",
       "   'Price': 85.41},\n",
       "  'Order_id': {'Order_id': 1169,\n",
       "   'Order_date': datetime.datetime(2023, 1, 4, 0, 0),\n",
       "   'Customer_id': 56},\n",
       "  'Quantity': 1,\n",
       "  'Total': 85.41},\n",
       " {'OrderDetails_id': 3,\n",
       "  'Product_id': {'Product_id': 21,\n",
       "   'Name': 'Mouthguards',\n",
       "   'Description': 'designed to protect the teeth and jaw from impact during contact sports.',\n",
       "   'Price': 40.21},\n",
       "  'Order_id': {'Order_id': 1935,\n",
       "   'Order_date': datetime.datetime(2023, 1, 4, 0, 0),\n",
       "   'Customer_id': 790},\n",
       "  'Quantity': 2,\n",
       "  'Total': 80.42}]"
      ]
     },
     "execution_count": 28,
     "metadata": {},
     "output_type": "execute_result"
    }
   ],
   "source": [
    "new_od[:3]"
   ]
  },
  {
   "cell_type": "code",
   "execution_count": 29,
   "id": "6e643fa6-f5e0-4fe9-aa24-f6c968a01193",
   "metadata": {},
   "outputs": [
    {
     "data": {
      "text/plain": [
       "1"
      ]
     },
     "execution_count": 29,
     "metadata": {},
     "output_type": "execute_result"
    }
   ],
   "source": [
    "new_od[0]['OrderDetails_id']"
   ]
  },
  {
   "cell_type": "code",
   "execution_count": 30,
   "id": "d06d6ea3-8bcb-4b21-b3b6-94e96ff6e385",
   "metadata": {},
   "outputs": [
    {
     "data": {
      "text/plain": [
       "datetime.datetime(2023, 1, 4, 0, 0)"
      ]
     },
     "execution_count": 30,
     "metadata": {},
     "output_type": "execute_result"
    }
   ],
   "source": [
    "new_od[0]['Order_id']['Order_date']"
   ]
  },
  {
   "cell_type": "markdown",
   "id": "12be880f-17e3-4b4c-a1ef-2c4ea560173c",
   "metadata": {},
   "source": [
    "#### 3.2.2: Customer_id in Orders"
   ]
  },
  {
   "cell_type": "code",
   "execution_count": 31,
   "id": "48f2d623-1074-48a5-a64d-d5a8d8aa9075",
   "metadata": {},
   "outputs": [
    {
     "data": {
      "text/plain": [
       "{'Order_id': 1, 'Order_date': datetime.date(2022, 12, 18), 'Customer_id': 815}"
      ]
     },
     "execution_count": 31,
     "metadata": {},
     "output_type": "execute_result"
    }
   ],
   "source": [
    "query = \"\"\"SELECT * FROM Orders\"\"\"\n",
    "\n",
    "cursor.execute(query)\n",
    "orders = list(cursor.fetchall())\n",
    "orders[0]"
   ]
  },
  {
   "cell_type": "code",
   "execution_count": 32,
   "id": "3f7eda25-bdbb-460e-ba86-f2a80171da97",
   "metadata": {},
   "outputs": [],
   "source": [
    "new_orders = []\n",
    "\n",
    "for cust in orders:\n",
    "    cust['Customer_id'] = list(filter(lambda cust_id: cust_id['Customer_id'] == cust['Customer_id'], customer))[0]\n",
    "    cust['Order_date'] = datetime.datetime(orders[0]['Order_date'].year,\n",
    "                                           orders[0]['Order_date'].month,\n",
    "                                           orders[0]['Order_date'].day)\n",
    "    cust['Customer_id']['Start_date'] = datetime.datetime(orders[0]['Customer_id']['Start_date'].year,\n",
    "                                                          orders[0]['Customer_id']['Start_date'].month,\n",
    "                                                          orders[0]['Customer_id']['Start_date'].day)\n",
    "    cust['Customer_id']['DOB'] = datetime.datetime(orders[0]['Customer_id']['DOB'].year,\n",
    "                                                   orders[0]['Customer_id']['DOB'].month,\n",
    "                                                   orders[0]['Customer_id']['DOB'].day)\n",
    "    new_orders.append(cust)"
   ]
  },
  {
   "cell_type": "code",
   "execution_count": 33,
   "id": "b3cf7710-f907-408e-b36a-718dae758567",
   "metadata": {},
   "outputs": [
    {
     "data": {
      "text/plain": [
       "{'Order_id': 1,\n",
       " 'Order_date': datetime.datetime(2022, 12, 18, 0, 0),\n",
       " 'Customer_id': {'Customer_id': 815,\n",
       "  'Start_date': datetime.datetime(2020, 12, 30, 0, 0),\n",
       "  'First_name': 'Jeffrey',\n",
       "  'Last_name': 'Bailey',\n",
       "  'DOB': datetime.datetime(1977, 7, 10, 0, 0),\n",
       "  'Phone': '376-345-2633x492',\n",
       "  'Email': 'candace73@example.net',\n",
       "  'Clinic_id': 4}}"
      ]
     },
     "execution_count": 33,
     "metadata": {},
     "output_type": "execute_result"
    }
   ],
   "source": [
    "new_orders[0]"
   ]
  },
  {
   "cell_type": "markdown",
   "id": "1c8668ae-de33-409e-8609-fc23b85f06d3",
   "metadata": {},
   "source": [
    "#### 3.2.3: Clinic_id in Customers"
   ]
  },
  {
   "cell_type": "code",
   "execution_count": 34,
   "id": "a2243f7f-23f5-4c8a-8e8c-476fc323a41b",
   "metadata": {},
   "outputs": [],
   "source": [
    "new_customer = []\n",
    "\n",
    "for clin in customer:\n",
    "    clin['Clinic_id'] = list(filter(lambda clin_id: clin_id['Clinic_id'] == clin['Clinic_id'], clinic))[0]\n",
    "    clin['Start_date'] = datetime.datetime(customer[0]['Start_date'].year,\n",
    "                                           customer[0]['Start_date'].month,\n",
    "                                           customer[0]['Start_date'].day)\n",
    "    clin['DOB'] = datetime.datetime(customer[0]['DOB'].year,\n",
    "                                    customer[0]['DOB'].month,\n",
    "                                    customer[0]['DOB'].day)\n",
    "    new_customer.append(clin)"
   ]
  },
  {
   "cell_type": "code",
   "execution_count": 35,
   "id": "734adc98-b5dc-4203-b263-d649f11b4834",
   "metadata": {},
   "outputs": [
    {
     "data": {
      "text/plain": [
       "{'Customer_id': 1,\n",
       " 'Start_date': datetime.datetime(2018, 9, 1, 0, 0),\n",
       " 'First_name': 'David',\n",
       " 'Last_name': 'Harding',\n",
       " 'DOB': datetime.datetime(1941, 12, 30, 0, 0),\n",
       " 'Phone': '620.445.2906',\n",
       " 'Email': 'tsmith@example.org',\n",
       " 'Clinic_id': {'Clinic_id': 11,\n",
       "  'Name': 'Gross-Strong',\n",
       "  'Address': '05364 Pennington Pike Apt. 188',\n",
       "  'City': 'East Edward',\n",
       "  'State': 'Rhode Island',\n",
       "  'Zip': 89804,\n",
       "  'Phone': '001-602-202-1907'}}"
      ]
     },
     "execution_count": 35,
     "metadata": {},
     "output_type": "execute_result"
    }
   ],
   "source": [
    "new_customer[0]"
   ]
  },
  {
   "cell_type": "markdown",
   "id": "397c2b76-5803-4897-ab8e-f52f8ed635cd",
   "metadata": {},
   "source": [
    "## 4. MongoDB Config\n",
    "- Ensure that server is running via terminal"
   ]
  },
  {
   "cell_type": "code",
   "execution_count": 36,
   "id": "c3396b0e-b120-4092-bd02-d8901624874f",
   "metadata": {},
   "outputs": [
    {
     "name": "stdout",
     "output_type": "stream",
     "text": [
      "{ 'empty': False,\n",
      "  'name': 'SM_DBMS',\n",
      "  'sizeOnDisk': 1601536}\n",
      "{ 'empty': False,\n",
      "  'name': 'SkiData',\n",
      "  'sizeOnDisk': 163840}\n",
      "{ 'empty': False,\n",
      "  'name': 'admin',\n",
      "  'sizeOnDisk': 40960}\n",
      "{ 'empty': False,\n",
      "  'name': 'config',\n",
      "  'sizeOnDisk': 110592}\n",
      "{ 'empty': False,\n",
      "  'name': 'database1',\n",
      "  'sizeOnDisk': 1401794560}\n",
      "{ 'empty': False,\n",
      "  'name': 'local',\n",
      "  'sizeOnDisk': 73728}\n"
     ]
    }
   ],
   "source": [
    "# connects default host\n",
    "mongoClient = MongoClient()\n",
    "\n",
    "for db in mongoClient.list_databases():\n",
    "\tpprint(db, width=1, indent=2)"
   ]
  },
  {
   "cell_type": "code",
   "execution_count": 37,
   "id": "9f57dab0-1dce-4733-b596-d88086a9e3e4",
   "metadata": {},
   "outputs": [],
   "source": [
    "mongoClient.drop_database('SM_DBMS')"
   ]
  },
  {
   "cell_type": "code",
   "execution_count": 38,
   "id": "c6520bac-cc40-4d9c-8c05-80da628b70c5",
   "metadata": {},
   "outputs": [
    {
     "name": "stdout",
     "output_type": "stream",
     "text": [
      "Collections in the database:\n"
     ]
    }
   ],
   "source": [
    "mongoDB = mongoClient.SM_DBMS\n",
    "# List collection in mongoDB Database: SM_DBMS\n",
    "SM_DBMS_collections = mongoDB.list_collection_names()\n",
    "\n",
    "# Print the collection names\n",
    "print(\"Collections in the database:\")\n",
    "for collection_name in SM_DBMS_collections:\n",
    "    print(collection_name)"
   ]
  },
  {
   "cell_type": "markdown",
   "id": "53f01520-c8a6-4af1-921e-1f3ff3b0cbc2",
   "metadata": {},
   "source": [
    "## 5. Migration of Data"
   ]
  },
  {
   "cell_type": "code",
   "execution_count": 39,
   "id": "ee3ac71d-695b-4288-a502-283fc3e045cd",
   "metadata": {},
   "outputs": [],
   "source": [
    "Product_C = mongoDB.Product\n",
    "Clinic_C = mongoDB.Cilinc\n",
    "Orders_C = mongoDB.Orders\n",
    "OrderDetails_C = mongoDB.OrderDetails\n",
    "Customer_C = mongoDB.Customer"
   ]
  },
  {
   "cell_type": "code",
   "execution_count": 40,
   "id": "eb3843f7-a609-40e6-9512-ff4d77376519",
   "metadata": {},
   "outputs": [
    {
     "data": {
      "text/plain": [
       "<pymongo.results.InsertManyResult at 0x7fabdc280b40>"
      ]
     },
     "execution_count": 40,
     "metadata": {},
     "output_type": "execute_result"
    }
   ],
   "source": [
    "OrderDetails_C.insert_many(new_od)\n",
    "Orders_C.insert_many(new_orders)\n",
    "Customer_C.insert_many(new_customer)\n",
    "\n",
    "Product_C.insert_many(product)\n",
    "Clinic_C.insert_many(clinic)"
   ]
  },
  {
   "cell_type": "code",
   "execution_count": 41,
   "id": "d1d7cace-b74c-4223-8d48-ba2273efdf7e",
   "metadata": {},
   "outputs": [
    {
     "name": "stdout",
     "output_type": "stream",
     "text": [
      "Collections in the database:\n",
      "Product\n",
      "Cilinc\n",
      "OrderDetails\n",
      "Orders\n",
      "Customer\n"
     ]
    }
   ],
   "source": [
    "mongoDB = mongoClient.SM_DBMS\n",
    "# List collection in mongoDB Database: SM_DBMS\n",
    "SM_DBMS_collections = mongoDB.list_collection_names()\n",
    "\n",
    "# Print the collection names\n",
    "print(\"Collections in the database:\")\n",
    "for collection_name in SM_DBMS_collections:\n",
    "    print(collection_name)"
   ]
  },
  {
   "cell_type": "markdown",
   "id": "dd222df5-91a7-4768-b8e2-017b38386dfa",
   "metadata": {},
   "source": [
    "**NOTE:** This project was tedious due to the working out the syntax for transforming data in which NoSQL MongoDB would accept the dates in the JSON/Dictionary formats. One should consider date objects carefully. \n",
    "\n",
    "## 6. Accessing Nested Values:\n",
    "- Q: I want to find all `orderdetials` for customer_id `40`?"
   ]
  },
  {
   "cell_type": "code",
   "execution_count": 43,
   "id": "9683030f-aa20-4239-bdae-8c4c1c261c2e",
   "metadata": {},
   "outputs": [
    {
     "name": "stdout",
     "output_type": "stream",
     "text": [
      "{'OrderDetails_id': 4373,\n",
      " 'Order_id': {'Customer_id': 40,\n",
      "              'Order_date': datetime.datetime(2023, 1, 4, 0, 0),\n",
      "              'Order_id': 368},\n",
      " 'Product_id': {'Description': 'designed to aid in muscle recovery, such as '\n",
      "                               'massage guns, percussive therapy devices, or '\n",
      "                               'pneumatic compression boots.',\n",
      "                'Name': 'Recovery tools',\n",
      "                'Price': 17.29,\n",
      "                'Product_id': 30},\n",
      " 'Quantity': 3,\n",
      " 'Total': 51.87,\n",
      " '_id': ObjectId('643ee563be43dedd1c1db6d0')}\n"
     ]
    }
   ],
   "source": [
    "# Find all documents with 'Customer_id' equal to 40\n",
    "customer_id = 40\n",
    "cursor = OrderDetails_C.find({'Order_id.Customer_id': customer_id})\n",
    "\n",
    "# Iterate through the cursor and print the documents\n",
    "for document in cursor:\n",
    "    pprint(document)"
   ]
  },
  {
   "cell_type": "markdown",
   "id": "648f222a-1015-4807-9d4d-8e6a5cbb64e3",
   "metadata": {},
   "source": [
    "- Find all `customer ID` for those beloning to `clinic_id = 1`"
   ]
  },
  {
   "cell_type": "code",
   "execution_count": 47,
   "id": "8a87c888-aa55-4cdd-8332-427d4920436d",
   "metadata": {},
   "outputs": [
    {
     "data": {
      "text/plain": [
       "'Garcia, Harrell and Phillips'"
      ]
     },
     "execution_count": 47,
     "metadata": {},
     "output_type": "execute_result"
    }
   ],
   "source": [
    "# Belongs to clinic_id = 1 \n",
    "clinic_id = 1\n",
    "clinic[0]['Name']"
   ]
  },
  {
   "cell_type": "code",
   "execution_count": 49,
   "id": "97d6a10a-3145-4924-a0ec-a42cb1242a95",
   "metadata": {},
   "outputs": [
    {
     "name": "stdout",
     "output_type": "stream",
     "text": [
      "[19, 28, 82, 97, 131, 138, 148, 152, 187, 224, 242, 268, 312, 321, 348, 387, 430, 431, 478, 493, 603, 634, 664, 710, 711, 717, 747, 767, 791, 844, 846, 935, 970, 971, 976, 1011, 1019, 1023, 1028, 1073, 1082, 1086, 1114, 1132, 1143, 1151, 1183, 1194, 1212, 1233, 1238, 1264, 1284, 1287, 1317, 1318, 1321, 1323, 1336, 1345, 1357, 1363, 1570, 1618, 1669, 1691, 1695, 1704, 1751, 1911, 1912, 1934, 1958, 1960, 1964, 1990, 2007, 2015, 2056, 2064, 2080, 2086, 2162, 2186, 2194, 2243, 2332, 2340, 2383, 2412, 2420, 2425, 2439, 2444, 2446, 2461, 2470, 2476, 2486, 2525, 2593, 2617, 2619, 2625, 2629, 2643, 2698, 2713, 2764, 2832, 2891]\n"
     ]
    }
   ],
   "source": [
    "# Query the collection to find documents with Clinic_id.Clinic_id = clinic_id\n",
    "result = Customer_C.find({'Clinic_id.Clinic_id': clinic_id}, {'Customer_id': 1})\n",
    "\n",
    "# Extract Customer_id from the result and store in a list\n",
    "customer_ids = [doc['Customer_id'] for doc in result]\n",
    "print(customer_ids)"
   ]
  },
  {
   "cell_type": "code",
   "execution_count": 53,
   "id": "9ec033fd-d283-4134-857f-0f57bfd86f47",
   "metadata": {},
   "outputs": [
    {
     "data": {
      "text/plain": [
       "111"
      ]
     },
     "execution_count": 53,
     "metadata": {},
     "output_type": "execute_result"
    }
   ],
   "source": [
    "len(customer_ids)"
   ]
  }
 ],
 "metadata": {
  "kernelspec": {
   "display_name": "Python 3 (ipykernel)",
   "language": "python",
   "name": "python3"
  },
  "language_info": {
   "codemirror_mode": {
    "name": "ipython",
    "version": 3
   },
   "file_extension": ".py",
   "mimetype": "text/x-python",
   "name": "python",
   "nbconvert_exporter": "python",
   "pygments_lexer": "ipython3",
   "version": "3.8.8"
  }
 },
 "nbformat": 4,
 "nbformat_minor": 5
}
