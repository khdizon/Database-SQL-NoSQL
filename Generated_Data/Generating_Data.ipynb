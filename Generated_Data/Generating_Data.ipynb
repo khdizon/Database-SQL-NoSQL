{
 "cells": [
  {
   "cell_type": "markdown",
   "id": "f2c9acaf-60b1-441e-a684-fb489612ec43",
   "metadata": {
    "tags": []
   },
   "source": [
    "# Code for Generating Synthetic Data\n",
    "\n",
    "### Regis University MSDS_631_SQL_NoSQL\n",
    "#### Instructor: Dr. Bush\n",
    "Version  | Date | Author | Notes |\n",
    ":-------:|:----:|:-------|:-----:|\n",
    "0.1 |29 March 2023| Ken Dizon | Initial Version\n",
    "\n",
    "**Objective**\n",
    "\n",
    "Write a program that creates large files of records in a format acceptable to the load command, then load the data into your PDA relations.\n",
    "\n",
    "\n",
    "### Task Project 3\n",
    "- Note 1: This assignment is a slight modification by Dr. Scott Scott Leutenegge (University of Denver) of material developed by the Stanford Database Group.\n",
    "- Note 2: Remember to back up your work!\n",
    "\n",
    "In this phase of your PDA you will make sure your relations have keys and foreign keys, create a substantial amount of data for you databases, and load your database with this data using the MySQL \"load\" command.\n",
    "\n",
    "- First, make sure that your relations have keys and that the relations created from ER model relationships use foreign keys to specify the keys of the relations you are referencing.\n",
    "- To create the data, either\n",
    "    * write a program in any programming language you like that creates large files of records in a format acceptable to the load command, then load the data into your PDA relations.\n",
    "    * OR -- if using real data for your PDA, your program will need to transform the data into files of records conforming to your PDA schema.\n",
    "    * OR -- use an application such as Mockaroo to fabricate data. Generate either random or nonrandom (e.g., sequential) records conforming to your schema. It is both fine and expected for your data values—strings especially—to be meaningless gibberish. The point of generating large amounts of data is so that you can experiment with a database of realistic size. \n",
    "    \n",
    "The data you generate, and load should be on the order of\n",
    "- At least one table (relation) with tens of thousands of rows (tuples)\n",
    "- At least two additional tables (relations) with thousands of rows (tuples)\n",
    "\n",
    "When writing a program to fabricate data, keep in mind the following two points:\n",
    "1. Make sure you do not generate duplicate values for attributes that serve as keys. \n",
    "2. Your PDA almost certainly includes relations that are expected to join with each other. For example, you may have a STUDENT relation with attribute courseNo that's expected to join with attribute number in relation COURSES. In generating data, be sure to generate values that actually do join—otherwise, all of your interesting queries will have empty results! One way to guarantee join-ability is to generate the values in one relation, then use the generated values in one relation to select joining values for the other relation. For example, you could generate course numbers first (either sequentially or randomly), then use these numbers to fill in the courseNo values in the STUDENT relation.\n",
    "\n",
    "\n",
    "- **Content**\n",
    "    1. Libraries\n",
    "    2. Manual Data\n",
    "    3. Using python Library"
   ]
  },
  {
   "cell_type": "code",
   "execution_count": 2,
   "id": "751c9000-a743-4eaa-83ea-1490a0de4c67",
   "metadata": {},
   "outputs": [
    {
     "name": "stdout",
     "output_type": "stream",
     "text": [
      "Collecting Faker\n",
      "  Downloading Faker-18.3.1-py3-none-any.whl (1.7 MB)\n",
      "\u001b[K     |████████████████████████████████| 1.7 MB 4.0 MB/s eta 0:00:01\n",
      "\u001b[?25hRequirement already satisfied: python-dateutil>=2.4 in /Users/Kenny/opt/anaconda3/lib/python3.8/site-packages (from Faker) (2.8.2)\n",
      "Requirement already satisfied: six>=1.5 in /Users/Kenny/opt/anaconda3/lib/python3.8/site-packages (from python-dateutil>=2.4->Faker) (1.15.0)\n",
      "Installing collected packages: Faker\n",
      "Successfully installed Faker-18.3.1\n"
     ]
    }
   ],
   "source": [
    "!pip install Faker"
   ]
  },
  {
   "cell_type": "code",
   "execution_count": 1,
   "id": "5fac5162-da79-41d5-a4ff-162ec6e23592",
   "metadata": {},
   "outputs": [],
   "source": [
    "# Libraries \n",
    "import random\n",
    "import string\n",
    "import datetime\n",
    "from faker import Faker\n",
    "fake = Faker()"
   ]
  },
  {
   "cell_type": "markdown",
   "id": "accd582b-0894-49b7-aab6-00acb080d5b5",
   "metadata": {},
   "source": [
    "## 2. Manual Data\n",
    "Create data using the proper dtypes and syntax with help from a library to ease the generating process\n",
    "\n",
    "## 3. Faker Library\n",
    "Docs: https://faker.readthedocs.io/en/master/\n",
    "\n",
    "- Step 1: Creating Clinics\n",
    "- Step 2: Generate Customers\n",
    "- Step 3: Create Products\n",
    "- Step 4: Create Order Details\n",
    "- Step 5: Generate Orders\n",
    "\n",
    "**1) Create Clinics**\n",
    "\n",
    "```SQL \n",
    "  `Clinic_id` INT NOT NULL,\n",
    "  `Name` VARCHAR(45) NULL,\n",
    "  `Address` VARCHAR(45) NULL,\n",
    "  `City` VARCHAR(45) NULL,\n",
    "  `State` VARCHAR(45) NULL,\n",
    "  `Zip` INT NULL,\n",
    "  `Phone` VARCHAR(45) NULL,\n",
    "  PRIMARY KEY (`ClinicID`))\n",
    "  ```"
   ]
  },
  {
   "cell_type": "code",
   "execution_count": 2,
   "id": "b3123f37-a97c-4c7a-90f5-ff5e887f0f18",
   "metadata": {},
   "outputs": [],
   "source": [
    "# Define the number of rows (Clinics) of data to generate\n",
    "num_rows = 30\n",
    "\n",
    "# Create a list of tuples containing the generated data\n",
    "Clinic_data = []\n",
    "for i in range(num_rows):\n",
    "    clinic_id = i + 1\n",
    "    name = fake.company()\n",
    "    address = fake.street_address()\n",
    "    city = fake.city()\n",
    "    state = fake.state()\n",
    "    zipcode = fake.zipcode()\n",
    "    phone = fake.phone_number()\n",
    "    Clinic_data.append((clinic_id, name, address, city, state, zipcode, phone))"
   ]
  },
  {
   "cell_type": "code",
   "execution_count": 3,
   "id": "b326d241-8fe3-4d5d-bed0-839fe303602e",
   "metadata": {},
   "outputs": [],
   "source": [
    "# Write the data to a text file\n",
    "with open('clinic_data.txt', 'w') as f:\n",
    "    for row in Clinic_data:\n",
    "        f.write(';'.join(map(str, row)) + '\\n')"
   ]
  },
  {
   "cell_type": "code",
   "execution_count": 20,
   "id": "ac97c8af-fed1-420e-9bf1-b0b063a99e98",
   "metadata": {},
   "outputs": [
    {
     "data": {
      "text/plain": [
       "[(1,\n",
       "  'Torres, Ross and Knox',\n",
       "  '746 Kerr Prairie',\n",
       "  'Ashleymouth',\n",
       "  'Massachusetts',\n",
       "  '89488',\n",
       "  '+1-714-476-1517x951'),\n",
       " (2,\n",
       "  'Weber, Walker and Haley',\n",
       "  '0980 James Drive Suite 118',\n",
       "  'Robertton',\n",
       "  'Arizona',\n",
       "  '51795',\n",
       "  '572-493-9133x8295'),\n",
       " (3,\n",
       "  'Davis-Christian',\n",
       "  '4884 Miller Parks Suite 982',\n",
       "  'Port Ryanport',\n",
       "  'Florida',\n",
       "  '20731',\n",
       "  '(509)119-5478x39676')]"
      ]
     },
     "execution_count": 20,
     "metadata": {},
     "output_type": "execute_result"
    }
   ],
   "source": [
    "Clinic_data[0:3]"
   ]
  },
  {
   "cell_type": "markdown",
   "id": "cf0c2393-46cd-4f47-9a43-efe18f570cc4",
   "metadata": {},
   "source": [
    "**2) Generate Customers**\n",
    "``` SQL\n",
    "  `Customer_id` INT NOT NULL,\n",
    "  `Start_date` VARCHAR(45) NULL,\n",
    "  `First_name` VARCHAR(45) NULL,\n",
    "  `Last_name` VARCHAR(45) NULL,\n",
    "  `DOB` DATE NULL,\n",
    "  `Phone` VARCHAR(45) NULL,\n",
    "  `Email` VARCHAR(45) NULL,\n",
    "  `Clinic_id` INT NULL,\n",
    "  PRIMARY KEY (`Customer_id`),\n",
    "  INDEX `Clinic_id_idx` (`Clinic_id` ASC) VISIBLE,\n",
    "  CONSTRAINT `Clinic_id`\n",
    "  FOREIGN KEY (`Clinic_id`)\n",
    "  REFERENCES `mydb`.`Clinic` (`ClinicID`)\n",
    "  ```"
   ]
  },
  {
   "cell_type": "code",
   "execution_count": 4,
   "id": "03fe0edb-db52-4507-a474-d521dbc749f2",
   "metadata": {},
   "outputs": [],
   "source": [
    "# Define the number of rows (Customers) of data to generate\n",
    "num_rows = 3000\n",
    "\n",
    "# date range\n",
    "start_date = datetime.date(2012, 1, 1)\n",
    "end_date = datetime.date(2020, 12, 31)\n",
    "\n",
    "# Create a list of tuples containing the generated data\n",
    "Customer_data = []\n",
    "for i in range(num_rows):\n",
    "    customer_id = i + 1\n",
    "    # start_date = fake.date_between(start_date='-4y', end_date='today')\n",
    "    start_date = fake.date_between(start_date=start_date, end_date=end_date)\n",
    "    first_name = fake.first_name()\n",
    "    last_name = fake.last_name()\n",
    "    dob = fake.date_of_birth()\n",
    "    phone = fake.phone_number()\n",
    "    email = fake.email()\n",
    "    clinic_id = random.randint(1, 30) # Randomly assign a clinic ID between 1 and 30\n",
    "    Customer_data.append((customer_id, start_date, first_name, last_name, dob, phone, email, clinic_id))"
   ]
  },
  {
   "cell_type": "code",
   "execution_count": 5,
   "id": "f1cd0864-c585-46af-8958-569b351a23b2",
   "metadata": {},
   "outputs": [],
   "source": [
    "# Write the data to a text file\n",
    "with open('customer_data.txt', 'w') as f:\n",
    "    for row in Customer_data:\n",
    "        f.write(';'.join(map(str, row)) + '\\n')"
   ]
  },
  {
   "cell_type": "code",
   "execution_count": 21,
   "id": "da708af8-202a-473c-b1ee-6c37ceab6ae4",
   "metadata": {},
   "outputs": [
    {
     "data": {
      "text/plain": [
       "[(1,\n",
       "  datetime.date(2020, 2, 14),\n",
       "  'Brandon',\n",
       "  'Walter',\n",
       "  datetime.date(1950, 11, 29),\n",
       "  '287-061-3060x547',\n",
       "  'watsonsteven@example.net',\n",
       "  21),\n",
       " (2,\n",
       "  datetime.date(2020, 4, 7),\n",
       "  'Angela',\n",
       "  'Johnson',\n",
       "  datetime.date(1920, 11, 28),\n",
       "  '043.400.5314',\n",
       "  'angela71@example.org',\n",
       "  15),\n",
       " (3,\n",
       "  datetime.date(2020, 5, 15),\n",
       "  'Shawna',\n",
       "  'Cruz',\n",
       "  datetime.date(1949, 2, 12),\n",
       "  '(616)673-6420x9535',\n",
       "  'tatejason@example.com',\n",
       "  14)]"
      ]
     },
     "execution_count": 21,
     "metadata": {},
     "output_type": "execute_result"
    }
   ],
   "source": [
    "Customer_data[:3]"
   ]
  },
  {
   "cell_type": "markdown",
   "id": "2ccd7058-78ae-4ed1-8730-586db12956b6",
   "metadata": {},
   "source": [
    "So far we have 30 Clinics servering 3000 customers\n",
    "\n",
    "**3) Create products**\n",
    "\n",
    "``` SQL\n",
    " `Product_id` INT NOT NULL,\n",
    "  `Name` VARCHAR(45) NULL,\n",
    "  `Description` VARCHAR(45) NULL,\n",
    "  `Price` DECIMAL NULL,\n",
    " ```"
   ]
  },
  {
   "cell_type": "code",
   "execution_count": 6,
   "id": "0db24b7a-caac-4695-b655-5de846f69cfd",
   "metadata": {},
   "outputs": [],
   "source": [
    "# List of 30 random Sports Medince Product [Names, Descriptions]\n",
    "\n",
    "products = ['Knee braces: designed to support and protect the knee joint during physical activity or recovery from injury.',\n",
    "             'Ankle braces: designed to provide stability and support for the ankle joint during physical activity or recovery from injury.',\n",
    "             'Compression garments: designed to improve blood flow, reduce swelling, and support muscles during physical activity or recovery from injury.',\n",
    "             'Ice packs: designed to reduce pain and swelling by applying cold therapy to the affected area.',\n",
    "             'Heating pads: designed to improve blood flow, reduce muscle tension, and promote healing by applying heat therapy to the affected area.',\n",
    "             'Massage balls: designed to relieve muscle tension and improve flexibility by applying pressure to trigger points in the muscles.',\n",
    "             'Foam rollers: designed to relieve muscle tension and improve flexibility by rolling over the muscles.',\n",
    "             'Resistance bands: designed to improve strength and flexibility by providing resistance during exercise.',\n",
    "             'Balance boards: designed to improve balance and stability by challenging the body to maintain equilibrium on an unstable surface.',\n",
    "             'Sports tape: designed to provide support and stability for joints and muscles during physical activity or recovery from injury.',\n",
    "             'Cold sprays: designed to provide instant cooling relief for muscle or joint pain.',\n",
    "             'Anti-inflammatory creams: designed to reduce pain and swelling by applying a topical cream containing anti-inflammatory ingredients.',\n",
    "             'Electrolyte replacement drinks: designed to replace fluids and essential minerals lost through sweating during physical activity.',\n",
    "             'Protein supplements: designed to aid in muscle recovery and growth by providing additional protein to the body.',\n",
    "             'Energy gels: designed to provide a quick source of energy during physical activity.',\n",
    "             'Electrotherapy devices: designed to provide pain relief and promote healing through the use of electrical impulses.',\n",
    "             'Insoles: designed to provide additional support and cushioning for the feet during physical activity or recovery from injury.',\n",
    "             'Athletic tape: designed to prevent or treat injuries, provide support to muscles and joints, or secure bandages and splints.',\n",
    "             'Wrist supports: designed to protect and support the wrist during physical activity or recovery from injury.',\n",
    "             'Finger splints: designed to protect and immobilize the finger during physical activity or recovery from injury.',\n",
    "             'Mouthguards: designed to protect the teeth and jaw from impact during contact sports.',\n",
    "             'Shin guards: designed to protect the shins from impact during contact sports.',\n",
    "             'Sports goggles: designed to protect the eyes during physical activity or contact sports.',\n",
    "             'Sports-specific shoes: designed with features specific to a particular sport, such as cleats for soccer or basketball shoes with extra cushioning.',\n",
    "             'Athletic socks: designed with extra cushioning and support for the feet during physical activity.',\n",
    "             'Blister pads: designed to protect the skin from friction and prevent blisters during physical activity.',\n",
    "             'Hydration packs: designed to provide hands-free hydration during outdoor activities.',\n",
    "             'GPS watches: designed to track distance, pace, and other metrics during physical activity.',\n",
    "             'Heart rate monitors: designed to track heart rate and other metrics during physical activity.',\n",
    "             'Recovery tools: designed to aid in muscle recovery, such as massage guns, percussive therapy devices, or pneumatic compression boots.']"
   ]
  },
  {
   "cell_type": "code",
   "execution_count": 7,
   "id": "7cdb7c9d-cca6-4b69-a019-3952a7037004",
   "metadata": {},
   "outputs": [
    {
     "data": {
      "text/plain": [
       "'Electrolyte replacement drinks: designed to replace fluids and essential minerals lost through sweating during physical activity.'"
      ]
     },
     "execution_count": 7,
     "metadata": {},
     "output_type": "execute_result"
    }
   ],
   "source": [
    "random.choice(products)"
   ]
  },
  {
   "cell_type": "code",
   "execution_count": 8,
   "id": "86f4af18-f8ed-4f06-b6bf-e9dc8d48e1d7",
   "metadata": {},
   "outputs": [],
   "source": [
    "# Initialize empty lists for products \n",
    "prod_list = []\n",
    "\n",
    "# Loop through each product and generate a unique ID and a random price\n",
    "for i, product in enumerate(products):\n",
    "    product_id = i + 1  # Use index as ID (1 to 30)\n",
    "    Pname, Pdesc = product.split(':')  # Split name and description\n",
    "    price = round(random.uniform(1.0, 100.0), 2)  # Generate random price\n",
    "    # Add product data to output list\n",
    "    prod_list.append((product_id, Pname.strip(), Pdesc.strip(), price))"
   ]
  },
  {
   "cell_type": "code",
   "execution_count": 9,
   "id": "daf49e30-110c-43c6-bee5-18eab8466284",
   "metadata": {},
   "outputs": [],
   "source": [
    "# Write the output data to a text file\n",
    "with open('product_data.txt', 'w') as f:\n",
    "    for row in prod_list:\n",
    "        f.write(';'.join(str(item) for item in row) + '\\n')"
   ]
  },
  {
   "cell_type": "code",
   "execution_count": 22,
   "id": "4303ce74-5593-4fb4-8ee6-f4cd01222d85",
   "metadata": {},
   "outputs": [
    {
     "data": {
      "text/plain": [
       "[(1,\n",
       "  'Knee braces',\n",
       "  'designed to support and protect the knee joint during physical activity or recovery from injury.',\n",
       "  56.1),\n",
       " (2,\n",
       "  'Ankle braces',\n",
       "  'designed to provide stability and support for the ankle joint during physical activity or recovery from injury.',\n",
       "  1.63),\n",
       " (3,\n",
       "  'Compression garments',\n",
       "  'designed to improve blood flow, reduce swelling, and support muscles during physical activity or recovery from injury.',\n",
       "  87.25)]"
      ]
     },
     "execution_count": 22,
     "metadata": {},
     "output_type": "execute_result"
    }
   ],
   "source": [
    "prod_list[:3]"
   ]
  },
  {
   "cell_type": "markdown",
   "id": "cd27a219-a8c0-4aaf-a618-7a4248b868fb",
   "metadata": {},
   "source": [
    "**Note**\n",
    "We now have:\n",
    "- 30 clinics\n",
    "- 3000 customers\n",
    "- 30 prodcuts \n",
    "    * We want too generate 5000 orders that encapsulate\n",
    "\n",
    "**4) Create Order Details**\n",
    "``` SQL\n",
    "  `OrderDetials_id` INT NOT NULL,\n",
    "  `Product_id` INT NULL,\n",
    "  `Order_id` INT NULL,\n",
    "  `Quanitity` INT NULL,\n",
    "  ```"
   ]
  },
  {
   "cell_type": "code",
   "execution_count": 10,
   "id": "7b89cd95-eb51-4aa7-94bf-83dc4a1cba6e",
   "metadata": {},
   "outputs": [],
   "source": [
    "OrderDets = []\n",
    "for i in range(5000):\n",
    "    OD_id = i + 1\n",
    "    product_id = random.randint(1, 30)\n",
    "    order_id = random.sample(range(1, 5001), 1)[0]\n",
    "    quantity = random.randint(1, 10)\n",
    "    OrderDets.append((OD_id, product_id, order_id, quantity))"
   ]
  },
  {
   "cell_type": "code",
   "execution_count": 11,
   "id": "78a30cee-8836-40f2-84a9-7bb633162dfb",
   "metadata": {},
   "outputs": [],
   "source": [
    "# Save data to a text file\n",
    "with open('orderdetails_data.txt', 'w') as f:\n",
    "    for row in OrderDets:\n",
    "        f.write(';'.join(str(col) for col in row) + '\\n')"
   ]
  },
  {
   "cell_type": "code",
   "execution_count": 23,
   "id": "787c43c1-0d9d-4c61-9a8d-490011f2e9ce",
   "metadata": {},
   "outputs": [
    {
     "data": {
      "text/plain": [
       "[(1, 1, 876, 5), (2, 4, 2308, 4), (3, 7, 1647, 6)]"
      ]
     },
     "execution_count": 23,
     "metadata": {},
     "output_type": "execute_result"
    }
   ],
   "source": [
    "OrderDets[:3]"
   ]
  },
  {
   "cell_type": "markdown",
   "id": "5889bb68-f205-44dc-8258-d6b395f6a213",
   "metadata": {},
   "source": [
    "**5) Generate Orders**\n",
    "\n",
    "``` SQL\n",
    "`Order_id` INT NOT NULL,\n",
    "  `Order_date` DATE NULL,\n",
    "  `Customer_id` INT NULL,\n",
    "  ```"
   ]
  },
  {
   "cell_type": "code",
   "execution_count": 12,
   "id": "1c140e71-0ace-494a-91d6-3bb4798be46d",
   "metadata": {},
   "outputs": [],
   "source": [
    "Orders = []\n",
    "\n",
    "for i in range(3000):\n",
    "    order_id = i + 1\n",
    "    date = fake.date_between(start_date='-2y', end_date='today')\n",
    "    customer_id = random.randint(1, 3000)\n",
    "    Orders.append((order_id, date, customer_id))"
   ]
  },
  {
   "cell_type": "code",
   "execution_count": 13,
   "id": "670443a0-1acd-42a5-9089-e90a78cebaea",
   "metadata": {},
   "outputs": [],
   "source": [
    "# Save data to a text file\n",
    "with open('orders_data.txt', 'w') as f:\n",
    "    for row in Orders:\n",
    "        f.write(';'.join(str(col) for col in row) + '\\n')"
   ]
  },
  {
   "cell_type": "code",
   "execution_count": 24,
   "id": "5576fd78-f445-40da-98ca-a5a5a58620af",
   "metadata": {},
   "outputs": [
    {
     "data": {
      "text/plain": [
       "[(1, datetime.date(2021, 10, 12), 2633),\n",
       " (2, datetime.date(2023, 2, 3), 2927),\n",
       " (3, datetime.date(2022, 3, 18), 1900)]"
      ]
     },
     "execution_count": 24,
     "metadata": {},
     "output_type": "execute_result"
    }
   ],
   "source": [
    "Orders[:3]"
   ]
  }
 ],
 "metadata": {
  "kernelspec": {
   "display_name": "Python 3 (ipykernel)",
   "language": "python",
   "name": "python3"
  },
  "language_info": {
   "codemirror_mode": {
    "name": "ipython",
    "version": 3
   },
   "file_extension": ".py",
   "mimetype": "text/x-python",
   "name": "python",
   "nbconvert_exporter": "python",
   "pygments_lexer": "ipython3",
   "version": "3.8.8"
  }
 },
 "nbformat": 4,
 "nbformat_minor": 5
}
